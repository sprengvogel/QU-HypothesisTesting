{
  "nbformat": 4,
  "nbformat_minor": 0,
  "metadata": {
    "colab": {
      "name": "Report.ipynb",
      "provenance": [],
      "collapsed_sections": [],
      "authorship_tag": "ABX9TyM3bO26b2nBRwG1gDI8DQ5u",
      "include_colab_link": true
    },
    "kernelspec": {
      "name": "python3",
      "display_name": "Python 3"
    },
    "language_info": {
      "name": "python"
    }
  },
  "cells": [
    {
      "cell_type": "markdown",
      "metadata": {
        "id": "view-in-github",
        "colab_type": "text"
      },
      "source": [
        "<a href=\"https://colab.research.google.com/github/sprengvogel/QU-HypothesisTesting/blob/main/Report.ipynb\" target=\"_parent\"><img src=\"https://colab.research.google.com/assets/colab-badge.svg\" alt=\"Open In Colab\"/></a>"
      ]
    },
    {
      "cell_type": "markdown",
      "metadata": {
        "id": "c1xeV0nY_UCo"
      },
      "source": [
        " ### **Template Statistic Seminar Jupyter Notebook or Google Colab**\n",
        "\n",
        "Colab is a free Jupyter notebook environment that runs entirely in the cloud. Most importantly, it does not require a setup and the notebooks that you create can be simultaneously edited by your team members - just the way you edit documents in Google Docs. Colab supports many popular machine learning libraries which can be easily loaded in your notebook. One key advantage is, that you can share the notebook and edit code and text in real time. \n",
        "\n",
        "In the Statistic Seminar you can use either **Jupyter Notebooks** or **Google Colab** to collaboratively work on your topics. \n",
        "\n",
        "Please make use of the text cells for explanations and commenting your code! The text cells are formatted using **markdown** which also enables you to wirte equations with. \n",
        "\n",
        "\n",
        "\n"
      ]
    },
    {
      "cell_type": "markdown",
      "metadata": {
        "id": "w5vaFjkFMGC8"
      },
      "source": [
        "### **What the template will be used for**\n",
        "+ Quick look-up, in case someone wants to see what the method is about, what can it be used for and how to implement it in python\n"
      ]
    },
    {
      "cell_type": "markdown",
      "metadata": {
        "id": "IvrXGDP8MCF_"
      },
      "source": [
        "\n",
        " ### **In your final template you should shortly describe:**\n",
        " "
      ]
    },
    {
      "cell_type": "markdown",
      "metadata": {
        "id": "9O6P5k7jHznb"
      },
      "source": [
        "### 1. Introduction\n",
        "\n",
        "*  What is it?\n",
        "* When to use it?\n",
        "- Assumptions (is the method suitable for the data?)"
      ]
    },
    {
      "cell_type": "markdown",
      "metadata": {
        "id": "cr1qyrb0H2HW"
      },
      "source": [
        "\n",
        "### 2. What questions can be answered by using the method\n",
        "\n"
      ]
    },
    {
      "cell_type": "markdown",
      "metadata": {
        "id": "0fjH25DtH5Ry"
      },
      "source": [
        "### 3. Dataset and Data Preparation\n",
        "\n",
        "* Shortly describe the data and variables (this could include also some descriptive statistics like the distribution of variables, to check if the assumptions from the theoretical part are met)\n"
      ]
    },
    {
      "cell_type": "markdown",
      "metadata": {
        "id": "UG7eloxMINWI"
      },
      "source": [
        "### 4. Implementation of the method\n",
        "* Shortly mention the required packages\n",
        "* Describe step-by-step application (add also a sample of the csv data)\n",
        "* Please include code chunks and plots\n",
        "* Add an explanaton to each model output and plot you are showing\n",
        "\n"
      ]
    },
    {
      "cell_type": "markdown",
      "metadata": {
        "id": "V54RL53mH-qu"
      },
      "source": [
        "\n",
        "### References\n",
        "* Add some references you found useful, these can be also tutorials or other resources (do not need to be only scientific resources)\n"
      ]
    },
    {
      "cell_type": "markdown",
      "metadata": {
        "id": "V7p4d5ALLy1H"
      },
      "source": [
        "**Please upload your final noteboook to the tubcloud folder which you can find in Isis**\n"
      ]
    }
  ]
}